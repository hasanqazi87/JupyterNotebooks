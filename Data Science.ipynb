{
    "cells": [
        {
            "cell_type": "markdown",
            "metadata": {},
            "source": "# My Jupyter Notebook on IBM Watson Studio"
        },
        {
            "cell_type": "markdown",
            "metadata": {},
            "source": "**Hasan Qazi**\n\nData Scientist"
        },
        {
            "cell_type": "markdown",
            "metadata": {},
            "source": "*I am interested in data science because I want to be a part of how organizations make data-driven decisions.*"
        },
        {
            "cell_type": "markdown",
            "metadata": {},
            "source": "### The code below displays today's date."
        },
        {
            "cell_type": "code",
            "execution_count": 5,
            "metadata": {},
            "outputs": [
                {
                    "name": "stdout",
                    "output_type": "stream",
                    "text": "12/02/2023\n"
                }
            ],
            "source": "from datetime import date\nprint(date.today().strftime('%m/%d/%Y'))"
        },
        {
            "cell_type": "markdown",
            "metadata": {},
            "source": "- Python\n- SQL\n- R\n\n1. IBM Watson Studio\n2. R Studio\n3. Visual Studio Code\n\n[Google Main Page](https://google.com)\n"
        },
        {
            "cell_type": "code",
            "execution_count": null,
            "metadata": {},
            "outputs": [],
            "source": ""
        }
    ],
    "metadata": {
        "kernelspec": {
            "display_name": "Python 3.10",
            "language": "python",
            "name": "python3"
        },
        "language_info": {
            "codemirror_mode": {
                "name": "ipython",
                "version": 3
            },
            "file_extension": ".py",
            "mimetype": "text/x-python",
            "name": "python",
            "nbconvert_exporter": "python",
            "pygments_lexer": "ipython3",
            "version": "3.10.13"
        }
    },
    "nbformat": 4,
    "nbformat_minor": 1
}